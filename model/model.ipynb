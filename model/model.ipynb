{
 "cells": [
  {
   "cell_type": "code",
   "execution_count": 21,
   "id": "3e7feeec-b999-42cc-a3ae-22e3f8f96881",
   "metadata": {},
   "outputs": [],
   "source": [
    "import pickle\n",
    "from sklearn.feature_extraction.text import TfidfVectorizer\n",
    "from sklearn.linear_model import LogisticRegression\n",
    "from sklearn.pipeline import Pipeline\n",
    "from sklearn.model_selection import train_test_split\n",
    "from nltk.tokenize import word_tokenize\n",
    "from nltk.stem import WordNetLemmatizer\n",
    "from nltk.corpus import stopwords\n",
    "import nltk\n",
    "import string\n",
    "import pandas as pd\n",
    "import re\n",
    "from sklearn.metrics import classification_report"
   ]
  },
  {
   "cell_type": "code",
   "execution_count": 22,
   "id": "3c3dff9b-6bc4-43ab-8e4f-66d12fdfbbf9",
   "metadata": {},
   "outputs": [
    {
     "name": "stdout",
     "output_type": "stream",
     "text": [
      "  % Total    % Received % Xferd  Average Speed   Time    Time     Time  Current\n",
      "                                 Dload  Upload   Total   Spent    Left  Speed\n",
      "  0     0    0     0    0     0      0      0 --:--:-- --:--:-- --:--:--     0\n",
      "100 2376k  100 2376k    0     0  1388k      0  0:00:01  0:00:01 --:--:-- 3078k\n",
      "Archive:  tone-detection.zip\n",
      "  inflating: total_df.csv            \n"
     ]
    }
   ],
   "source": [
    "!curl -L -o tone-detection.zip https://www.kaggle.com/api/v1/datasets/download/zeeshanshaik75/tone-detection\n",
    "!unzip tone-detection.zip"
   ]
  },
  {
   "cell_type": "code",
   "execution_count": 23,
   "id": "09cda910-1b9f-47cf-a6e8-6fe95f07d2fa",
   "metadata": {},
   "outputs": [
    {
     "name": "stderr",
     "output_type": "stream",
     "text": [
      "[nltk_data] Downloading package stopwords to\n",
      "[nltk_data]     /Users/aleksei/nltk_data...\n",
      "[nltk_data]   Package stopwords is already up-to-date!\n",
      "[nltk_data] Downloading package wordnet to /Users/aleksei/nltk_data...\n",
      "[nltk_data]   Package wordnet is already up-to-date!\n",
      "[nltk_data] Downloading package omw-1.4 to /Users/aleksei/nltk_data...\n",
      "[nltk_data]   Package omw-1.4 is already up-to-date!\n"
     ]
    },
    {
     "name": "stdout",
     "output_type": "stream",
     "text": [
      "                precision    recall  f1-score   support\n",
      "\n",
      "      admiring       0.61      0.55      0.58      1200\n",
      "     amusement       0.80      0.73      0.76       564\n",
      "         anger       0.56      0.30      0.39       384\n",
      "     annoyance       0.40      0.11      0.18       524\n",
      "      approval       0.44      0.14      0.21       720\n",
      "        caring       0.49      0.13      0.21       256\n",
      "     concerned       0.52      0.11      0.18       458\n",
      "     confident       0.43      0.14      0.21       232\n",
      "     confusion       0.53      0.14      0.22       309\n",
      "        direct       0.00      0.00      0.00        57\n",
      "disappointment       0.31      0.04      0.07       268\n",
      "  disapproving       0.28      0.07      0.11       408\n",
      "       disgust       0.64      0.27      0.38       147\n",
      "        formal       0.50      0.04      0.07        80\n",
      "      friendly       0.00      0.00      0.00        65\n",
      "     gratitude       0.81      0.81      0.81       534\n",
      "      informal       1.00      0.01      0.02       105\n",
      " inspirational       0.00      0.00      0.00        31\n",
      "        joyful       0.41      0.43      0.42       790\n",
      "       neutral       0.47      0.88      0.61      4049\n",
      "    optimistic       0.51      0.29      0.37       338\n",
      "   realization       0.69      0.06      0.10       194\n",
      "       sadness       0.47      0.29      0.36       221\n",
      "      surprise       0.50      0.28      0.36       189\n",
      "     uncertain       0.00      0.00      0.00        51\n",
      "\n",
      "      accuracy                           0.50     12174\n",
      "     macro avg       0.45      0.23      0.26     12174\n",
      "  weighted avg       0.50      0.50      0.44     12174\n",
      "\n",
      "Prediction for sample text: admiring\n"
     ]
    },
    {
     "name": "stderr",
     "output_type": "stream",
     "text": [
      "/Users/aleksei/tf_env/lib/python3.10/site-packages/sklearn/metrics/_classification.py:1565: UndefinedMetricWarning: Precision is ill-defined and being set to 0.0 in labels with no predicted samples. Use `zero_division` parameter to control this behavior.\n",
      "  _warn_prf(average, modifier, f\"{metric.capitalize()} is\", len(result))\n",
      "/Users/aleksei/tf_env/lib/python3.10/site-packages/sklearn/metrics/_classification.py:1565: UndefinedMetricWarning: Precision is ill-defined and being set to 0.0 in labels with no predicted samples. Use `zero_division` parameter to control this behavior.\n",
      "  _warn_prf(average, modifier, f\"{metric.capitalize()} is\", len(result))\n",
      "/Users/aleksei/tf_env/lib/python3.10/site-packages/sklearn/metrics/_classification.py:1565: UndefinedMetricWarning: Precision is ill-defined and being set to 0.0 in labels with no predicted samples. Use `zero_division` parameter to control this behavior.\n",
      "  _warn_prf(average, modifier, f\"{metric.capitalize()} is\", len(result))\n"
     ]
    }
   ],
   "source": [
    "# Загрузка данных\n",
    "df = pd.read_csv(\"total_df.csv\")\n",
    "texts = df[\"text\"]  # Берем столбец с текстом\n",
    "labels = df[\"label\"]  # И соответствующие метки\n",
    "\n",
    "# Предварительная обработка текста\n",
    "nltk.download('stopwords')\n",
    "nltk.download('wordnet')\n",
    "nltk.download('omw-1.4')\n",
    "\n",
    "lemmatizer = WordNetLemmatizer()\n",
    "stop_words = set(stopwords.words('english'))\n",
    "\n",
    "def preprocess_text(text):\n",
    "    # Приведение к нижнему регистру\n",
    "    text = text.lower()\n",
    "    # Удаление пунктуации\n",
    "    text = re.sub(f'[{string.punctuation}]', '', text)\n",
    "    # Удаление цифр\n",
    "    text = re.sub(r'\\d+', '', text)\n",
    "    # Токенизация\n",
    "    words = text.split()\n",
    "    # Лемматизация и удаление стоп-слов\n",
    "    words = [lemmatizer.lemmatize(word) for word in words if word not in stop_words]\n",
    "    return ' '.join(words)\n",
    "\n",
    "# Применяем предобработку к текстам\n",
    "processed_texts = texts.apply(preprocess_text)\n",
    "\n",
    "# Разделение данных на обучающую и тестовую выборки\n",
    "X_train, X_test, y_train, y_test = train_test_split(\n",
    "    processed_texts, labels, test_size=0.2, random_state=42\n",
    ")\n",
    "\n",
    "# Создание пайплайна: векторизация + модель\n",
    "pipeline = Pipeline([\n",
    "    ('tfidf', TfidfVectorizer(max_features=10000, ngram_range=(1, 2))),\n",
    "    ('clf', LogisticRegression(max_iter=1000, random_state=42))\n",
    "])\n",
    "\n",
    "# Обучение модели\n",
    "pipeline.fit(X_train, y_train)\n",
    "with open(\"model.pkl\", \"wb\") as f:\n",
    "    pickle.dump(pipeline, f)\n",
    "# Оценка модели\n",
    "y_pred = pipeline.predict(X_test)\n",
    "print(classification_report(y_test, y_pred))\n",
    "\n",
    "# Пример предсказания\n",
    "sample_text = \"This product is absolutely amazing, I love it!\"\n",
    "processed_sample = preprocess_text(sample_text)\n",
    "prediction = pipeline.predict([processed_sample])\n",
    "print(f\"Prediction for sample text: {prediction[0]}\")"
   ]
  },
  {
   "cell_type": "code",
   "execution_count": 24,
   "id": "635055a1-e6ee-4232-99a9-b5ef8234fcbe",
   "metadata": {},
   "outputs": [
    {
     "name": "stdout",
     "output_type": "stream",
     "text": [
      "Prediction for sample text: sadness\n"
     ]
    }
   ],
   "source": [
    "sample_text = \"i miss you\"\n",
    "processed_sample = preprocess_text(sample_text)\n",
    "prediction = pipeline.predict([processed_sample])\n",
    "print(f\"Prediction for sample text: {prediction[0]}\")"
   ]
  }
 ],
 "metadata": {
  "kernelspec": {
   "display_name": "Python (tf_env)",
   "language": "python",
   "name": "env1"
  },
  "language_info": {
   "codemirror_mode": {
    "name": "ipython",
    "version": 3
   },
   "file_extension": ".py",
   "mimetype": "text/x-python",
   "name": "python",
   "nbconvert_exporter": "python",
   "pygments_lexer": "ipython3",
   "version": "3.10.17"
  }
 },
 "nbformat": 4,
 "nbformat_minor": 5
}
